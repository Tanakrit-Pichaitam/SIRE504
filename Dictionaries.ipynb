{
 "cells": [
  {
   "cell_type": "markdown",
   "metadata": {},
   "source": [
    "# Dictionaries"
   ]
  },
  {
   "cell_type": "code",
   "execution_count": null,
   "metadata": {
    "collapsed": false
   },
   "outputs": [],
   "source": [
    "# Create dictionaries\n",
    "capitals = dict()\n",
    "capitals['Russia'] = 'Moscow'\n",
    "capitals['Ukraine'] = 'Kiev'\n",
    "capitals['Thailand'] = 'Bangkok'\n",
    "\n",
    "countries = ['Russia','Ukraine','France','Thailand']\n",
    "for country in countries:\n",
    "    if country in capitals:\n",
    "        capital = capitals[country]\n",
    "        print('The capital of {} is {}'.format(country, capital))\n",
    "    else:\n",
    "        print('The capital of {} is unknown'.format(country))"
   ]
  },
  {
   "cell_type": "code",
   "execution_count": null,
   "metadata": {
    "collapsed": false
   },
   "outputs": [],
   "source": [
    "# If the key is not in the dictionary, trying to get the corresponding value will fail.\n",
    "capitals['France']"
   ]
  },
  {
   "cell_type": "code",
   "execution_count": null,
   "metadata": {
    "collapsed": false
   },
   "outputs": [],
   "source": [
    "# Other ways to create a dictionary\n",
    "capitals = {'Russia':'Moscow','Ukraine':'Kiev','Thailand':'Bangkok'}\n",
    "print(capitals)\n",
    "capitals = dict( [ ('Russia','Moscow'), ('Ukraine','Kiev'), ('Thailand','Bangkok') ] )\n",
    "print(capitals)\n",
    "capitals = dict(zip(['Russia','Ukraine','Thailand'],['Moscow', 'Kiev', 'Bangkok']))\n",
    "print(capitals)"
   ]
  },
  {
   "cell_type": "code",
   "execution_count": null,
   "metadata": {
    "collapsed": false
   },
   "outputs": [],
   "source": [
    "# Accessing elements in a dictionary\n",
    "print(capitals['Russia'])\n",
    "print(capitals.get('Russia'))\n",
    "print(capitals.get('China','Unknown'))"
   ]
  },
  {
   "cell_type": "code",
   "execution_count": null,
   "metadata": {
    "collapsed": false
   },
   "outputs": [],
   "source": [
    "# Deleting elements\n",
    "A = {'ab':'ba','aa':'aa','bb':'bb','ba':'ab'}\n",
    "key = 'ab'\n",
    "print(A)\n",
    "if key in A:\n",
    "    del A[key]\n",
    "print(A)"
   ]
  },
  {
   "cell_type": "code",
   "execution_count": null,
   "metadata": {
    "collapsed": false
   },
   "outputs": [],
   "source": [
    "# Looping through keys, elements and both\n",
    "A = dict(zip('abcdef',list(range(6))))\n",
    "for key in A:\n",
    "    print(key, A[key])"
   ]
  },
  {
   "cell_type": "code",
   "execution_count": null,
   "metadata": {
    "collapsed": false
   },
   "outputs": [],
   "source": [
    "# Loop over both keys and values\n",
    "A = dict(zip('abcdef',list(range(6))))\n",
    "for key, val in A.items():\n",
    "    print(key, val)"
   ]
  },
  {
   "cell_type": "code",
   "execution_count": null,
   "metadata": {
    "collapsed": false
   },
   "outputs": [],
   "source": [
    "# Loop over values\n",
    "A = dict(zip('abcdef',list(range(6))))\n",
    "for val in A.values():\n",
    "    print(val)"
   ]
  },
  {
   "cell_type": "code",
   "execution_count": null,
   "metadata": {
    "collapsed": false
   },
   "outputs": [],
   "source": [
    "# Lists can contain lists, indexing works from outside and in\n",
    "a = [ [1,2,3], [4,5,6]]\n",
    "print(a[0])\n",
    "print(a[0][0])\n",
    "b = a[0]\n",
    "print(b[0])"
   ]
  },
  {
   "cell_type": "code",
   "execution_count": null,
   "metadata": {
    "collapsed": false
   },
   "outputs": [],
   "source": [
    "# Another example of indexing with lists containing other lists.\n",
    "a = [ [[1,2,3,4,5],1,2,3], [4,5,6]]\n",
    "print(a[0][0][0])"
   ]
  },
  {
   "cell_type": "code",
   "execution_count": null,
   "metadata": {
    "collapsed": true
   },
   "outputs": [],
   "source": [
    "# Lists within lists can be used to represent a two-dimensional matrix\n",
    "# However, the modules numpy and pands are better suited for working with data matrices.\n",
    "a = [[1,2,3],\n",
    "     [4,5,6],\n",
    "     [7,8,9]]"
   ]
  },
  {
   "cell_type": "code",
   "execution_count": null,
   "metadata": {
    "collapsed": false
   },
   "outputs": [],
   "source": [
    "# Use the try ... except statement to deal with errors that might arise from your code.\n",
    "a = [1,2,3,4]\n",
    "try:\n",
    "    a[lkkkk] = 1\n",
    "except IndexError:\n",
    "    print('Index is not found in the list')"
   ]
  }
 ],
 "metadata": {
  "kernelspec": {
   "display_name": "Python 3",
   "language": "python",
   "name": "python3"
  },
  "language_info": {
   "codemirror_mode": {
    "name": "ipython",
    "version": 3
   },
   "file_extension": ".py",
   "mimetype": "text/x-python",
   "name": "python",
   "nbconvert_exporter": "python",
   "pygments_lexer": "ipython3",
   "version": "3.6.0"
  }
 },
 "nbformat": 4,
 "nbformat_minor": 2
}
