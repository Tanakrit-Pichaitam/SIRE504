{
 "cells": [
  {
   "cell_type": "markdown",
   "metadata": {},
   "source": [
    "# Functions"
   ]
  },
  {
   "cell_type": "markdown",
   "metadata": {},
   "source": [
    "```\n",
    "def function_name(parameter1, ...):\n",
    "    statement_block\n",
    "    [return value]\n",
    "```"
   ]
  },
  {
   "cell_type": "code",
   "execution_count": null,
   "metadata": {
    "collapsed": false
   },
   "outputs": [],
   "source": [
    "# Repeating code is not ideal\n",
    "# compute 3!\n",
    "res = 1\n",
    "for i in range(1,4):\n",
    "    res *= i\n",
    "print(res)\n",
    "\n",
    "# compute 5!\n",
    "res = 1\n",
    "for i in range(1,6):\n",
    "    res *= i\n",
    "print(res)"
   ]
  },
  {
   "cell_type": "code",
   "execution_count": null,
   "metadata": {
    "collapsed": false
   },
   "outputs": [],
   "source": [
    "# Use functions to avoid repeating code\n",
    "def factorial(n):\n",
    "    res = 1\n",
    "    for i in range(1,n + 1):\n",
    "        res *= i\n",
    "    return res\n",
    "\n",
    "print(factorial(3))\n",
    "print(factorial(5))"
   ]
  },
  {
   "cell_type": "code",
   "execution_count": null,
   "metadata": {
    "collapsed": false
   },
   "outputs": [],
   "source": [
    "# Another example\n",
    "def max(a,b):\n",
    "    if a > b:\n",
    "        return a\n",
    "    elif a < b:\n",
    "        return b\n",
    "    else:\n",
    "        return b\n",
    "print(max(3,5))\n",
    "print(max(5,3))"
   ]
  },
  {
   "cell_type": "code",
   "execution_count": null,
   "metadata": {
    "collapsed": false
   },
   "outputs": [],
   "source": [
    "# Passing an arbitrary amount of parameters to a function\n",
    "def max(*a):\n",
    "    res = a[0]\n",
    "    for val in a[1:]:\n",
    "        if val > res:\n",
    "            res = val\n",
    "    return res\n",
    "print(max(5,6,7))"
   ]
  },
  {
   "cell_type": "markdown",
   "metadata": {},
   "source": [
    "Variables created inside functions are called 'local'\n",
    "\n",
    "Variables created outside (at top level) are called 'global'"
   ]
  },
  {
   "cell_type": "code",
   "execution_count": null,
   "metadata": {
    "collapsed": false
   },
   "outputs": [],
   "source": [
    "# Global variables are seen inside functions\n",
    "def f():\n",
    "    print(a)\n",
    "    \n",
    "a = 1\n",
    "f()"
   ]
  },
  {
   "cell_type": "code",
   "execution_count": null,
   "metadata": {
    "collapsed": false
   },
   "outputs": [],
   "source": [
    "# Local variables are not seen outside functions\n",
    "def f():\n",
    "    newa = 1\n",
    "    \n",
    "f()\n",
    "print(newa) # NB! This will cause an error when run."
   ]
  },
  {
   "cell_type": "code",
   "execution_count": null,
   "metadata": {
    "collapsed": false
   },
   "outputs": [],
   "source": [
    "# Changing a global variable inside a function creates a local with the same name\n",
    "def f():\n",
    "    newb = 1\n",
    "    print(newb)\n",
    "    \n",
    "newb = 0\n",
    "f()\n",
    "print(newb)"
   ]
  },
  {
   "cell_type": "code",
   "execution_count": null,
   "metadata": {
    "collapsed": false
   },
   "outputs": [],
   "source": [
    "# Returning several variables at once\n",
    "def f():\n",
    "    a, b = 1, 2\n",
    "    return [a,b]\n",
    "    \n",
    "    \n",
    "n, m = f()\n",
    "print(n, m)"
   ]
  },
  {
   "cell_type": "markdown",
   "metadata": {},
   "source": [
    "## Recursion example\n",
    "A factorial n! can be written as n! = n * (n-1)!"
   ]
  },
  {
   "cell_type": "code",
   "execution_count": null,
   "metadata": {
    "collapsed": false
   },
   "outputs": [],
   "source": [
    "def factorial_rec(n):\n",
    "    if n == 0:\n",
    "        return 1\n",
    "    else:\n",
    "        return n * factorial_rec(n - 1)\n",
    "print(factorial_rec(5))"
   ]
  }
 ],
 "metadata": {
  "kernelspec": {
   "display_name": "Python 3",
   "language": "python",
   "name": "python3"
  },
  "language_info": {
   "codemirror_mode": {
    "name": "ipython",
    "version": 3
   },
   "file_extension": ".py",
   "mimetype": "text/x-python",
   "name": "python",
   "nbconvert_exporter": "python",
   "pygments_lexer": "ipython3",
   "version": "3.6.0"
  }
 },
 "nbformat": 4,
 "nbformat_minor": 2
}
