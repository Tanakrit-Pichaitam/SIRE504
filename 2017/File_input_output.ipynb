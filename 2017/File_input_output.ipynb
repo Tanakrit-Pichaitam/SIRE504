{
 "cells": [
  {
   "cell_type": "markdown",
   "metadata": {},
   "source": [
    "# File input/output"
   ]
  },
  {
   "cell_type": "code",
   "execution_count": null,
   "metadata": {
    "collapsed": false
   },
   "outputs": [],
   "source": [
    "# Connecting to a file and reading\n",
    "fin = open('sire504_datafile.txt', 'r')\n",
    "print(fin.read())"
   ]
  },
  {
   "cell_type": "code",
   "execution_count": null,
   "metadata": {
    "collapsed": false
   },
   "outputs": [],
   "source": [
    "# What does the raw file input looks like\n",
    "fin = open('sire504_datafile.txt', 'r')\n",
    "print(repr(fin.read()))"
   ]
  },
  {
   "cell_type": "code",
   "execution_count": null,
   "metadata": {
    "collapsed": false
   },
   "outputs": [],
   "source": [
    "# Read a file as a list of strings\n",
    "fin = open('sire504_datafile.txt', 'r')\n",
    "print(fin.readlines())"
   ]
  },
  {
   "cell_type": "code",
   "execution_count": null,
   "metadata": {
    "collapsed": false
   },
   "outputs": [],
   "source": [
    "# Loop through the lines with for\n",
    "fin = open('sire504_datafile.txt', 'r')\n",
    "for line in fin:\n",
    "    print(line.strip().split())"
   ]
  },
  {
   "cell_type": "code",
   "execution_count": null,
   "metadata": {
    "collapsed": false
   },
   "outputs": [],
   "source": [
    "# Manually stepping through a file\n",
    "fin = open('sire504_datafile.txt', 'r')\n",
    "print(next(fin))"
   ]
  },
  {
   "cell_type": "code",
   "execution_count": null,
   "metadata": {
    "collapsed": false
   },
   "outputs": [],
   "source": [
    "# Calling next() again gives us the next line\n",
    "print(next(fin))"
   ]
  },
  {
   "cell_type": "code",
   "execution_count": null,
   "metadata": {
    "collapsed": false
   },
   "outputs": [],
   "source": [
    "print(next(fin))\n",
    "print(next(fin))\n",
    "print(next(fin))\n",
    "print(next(fin)) # This will cause an error since there are no more lines in the file."
   ]
  },
  {
   "cell_type": "code",
   "execution_count": null,
   "metadata": {
    "collapsed": false
   },
   "outputs": [],
   "source": [
    "# Open a file for writing and write some text\n",
    "fout = open('sire504_datafile_out.txt', 'w')\n",
    "fout.write('Today we are learning about file input/output\\n')\n",
    "fout.write('This is fun!')\n",
    "# Notice that the output file does not contain any text at this point"
   ]
  },
  {
   "cell_type": "code",
   "execution_count": null,
   "metadata": {
    "collapsed": true
   },
   "outputs": [],
   "source": [
    "# After closing the connection, the text should appear in the file.\n",
    "fout.close()"
   ]
  },
  {
   "cell_type": "code",
   "execution_count": null,
   "metadata": {
    "collapsed": false
   },
   "outputs": [],
   "source": [
    "# Recommended syntax for opening a file\n",
    "# When the with statement block ends (for any reason), the file will be closed properly.\n",
    "with open('sire504_datafile.txt', 'r') as fin:\n",
    "    print(fin.read())"
   ]
  }
 ],
 "metadata": {
  "kernelspec": {
   "display_name": "Python 3",
   "language": "python",
   "name": "python3"
  },
  "language_info": {
   "codemirror_mode": {
    "name": "ipython",
    "version": 3
   },
   "file_extension": ".py",
   "mimetype": "text/x-python",
   "name": "python",
   "nbconvert_exporter": "python",
   "pygments_lexer": "ipython3",
   "version": "3.6.0"
  }
 },
 "nbformat": 4,
 "nbformat_minor": 2
}
