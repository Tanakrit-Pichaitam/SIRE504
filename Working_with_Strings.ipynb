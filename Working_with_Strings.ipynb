{
 "cells": [
  {
   "cell_type": "markdown",
   "metadata": {},
   "source": [
    "# Working with Strings"
   ]
  },
  {
   "cell_type": "code",
   "execution_count": null,
   "metadata": {
    "collapsed": false
   },
   "outputs": [],
   "source": [
    "# Operation on strings: + *\n",
    "print('>_<'*5)\n",
    "print('abc'+'abd')"
   ]
  },
  {
   "cell_type": "code",
   "execution_count": null,
   "metadata": {
    "collapsed": false
   },
   "outputs": [],
   "source": [
    "# Length of a string: len()\n",
    "print(len('abcdefghijklmnopqrstuvwxyz'))"
   ]
  },
  {
   "cell_type": "code",
   "execution_count": null,
   "metadata": {
    "collapsed": false
   },
   "outputs": [],
   "source": [
    "# Convert to string: str()\n",
    "s = str(2**100)\n",
    "print(s)\n",
    "print(len(s))"
   ]
  },
  {
   "cell_type": "code",
   "execution_count": null,
   "metadata": {
    "collapsed": false
   },
   "outputs": [],
   "source": [
    "# Slices and indexing\n",
    "# 0  1  2  3  4\n",
    "# H  e  l  l  o\n",
    "#-5 -4 -3 -2 -1\n",
    "s = 'Hello'\n",
    "print(s[-1])\n",
    "print(s[4])"
   ]
  },
  {
   "cell_type": "code",
   "execution_count": null,
   "metadata": {
    "collapsed": false
   },
   "outputs": [],
   "source": [
    "# Examples of index and slicing\n",
    "s = 'abcdefg'\n",
    "print(s[1])\n",
    "print(s[-1])\n",
    "print(s[1:3])\n",
    "print(s[1:-1])\n",
    "print(s[2:])\n",
    "print(s[:-1])\n",
    "print(s[::2])\n",
    "print(s[1::2])\n",
    "print(s[::-1])"
   ]
  },
  {
   "cell_type": "code",
   "execution_count": null,
   "metadata": {
    "collapsed": false
   },
   "outputs": [],
   "source": [
    "# Slicing and looping\n",
    "s = 'abcdefghijklm'\n",
    "print(s[0:10:2])\n",
    "for i in range(0, 10, 2):\n",
    "    print(i, s[i])"
   ]
  },
  {
   "cell_type": "code",
   "execution_count": null,
   "metadata": {
    "collapsed": false
   },
   "outputs": [],
   "source": [
    "# Locating substrings: find()\n",
    "s = 'Hello'\n",
    "print(s.find('e'))\n",
    "print(s.find('ll'))\n",
    "print(s.find('L'))"
   ]
  },
  {
   "cell_type": "code",
   "execution_count": null,
   "metadata": {
    "collapsed": false
   },
   "outputs": [],
   "source": [
    "# Directional locating: find() and rfind()\n",
    "s = 'abracadabra'\n",
    "print(s.find('b'))\n",
    "print(s.rfind('b'))"
   ]
  },
  {
   "cell_type": "code",
   "execution_count": null,
   "metadata": {
    "collapsed": false
   },
   "outputs": [],
   "source": [
    "# Repeated locating: find(text, index)\n",
    "s = 'my name is bond, james bond, okay?'\n",
    "print(s.find('bond'))\n",
    "print(s.find('bond', 12))"
   ]
  },
  {
   "cell_type": "code",
   "execution_count": null,
   "metadata": {
    "collapsed": false
   },
   "outputs": [],
   "source": [
    "# Spaces are treated as any other character in a string\n",
    "s = '    '\n",
    "print(len(s))\n",
    "print(s.find(' '))"
   ]
  },
  {
   "cell_type": "code",
   "execution_count": null,
   "metadata": {
    "collapsed": false
   },
   "outputs": [],
   "source": [
    "# Replacing substrings: replace(old, new)\n",
    "s = 'a bar is a bar, essentially'\n",
    "print(s.replace('bar','pub'))"
   ]
  },
  {
   "cell_type": "code",
   "execution_count": null,
   "metadata": {
    "collapsed": false
   },
   "outputs": [],
   "source": [
    "# Limited number of replacements: replace(old, new, num)\n",
    "s = 'a bar is a bar, essentially'\n",
    "print(s.replace('bar','pub', 1))"
   ]
  },
  {
   "cell_type": "code",
   "execution_count": null,
   "metadata": {
    "collapsed": false
   },
   "outputs": [],
   "source": [
    "# Mutability, strings cannot be changed in place.\n",
    "s = 'Hekko'\n",
    "t = s[0:2]+'ll'+s[4:]\n",
    "print(t)\n",
    "t = s.replace('kk', 'll')\n",
    "print(t)"
   ]
  },
  {
   "cell_type": "code",
   "execution_count": null,
   "metadata": {
    "collapsed": false
   },
   "outputs": [],
   "source": [
    "# Counting occurences: count()\n",
    "s = 'Abracadabra'\n",
    "print(s.count('ac'))\n",
    "s = 'aaaaaaaaaa'\n",
    "print(s.count('aa'))"
   ]
  },
  {
   "cell_type": "code",
   "execution_count": null,
   "metadata": {
    "collapsed": false
   },
   "outputs": [],
   "source": [
    "# Advanced string formatting\n",
    "s = '{}'.format(10)\n",
    "print(s)\n",
    "s = '{} {}  {}'.format(10, 2, 3)\n",
    "print(s)"
   ]
  },
  {
   "cell_type": "code",
   "execution_count": null,
   "metadata": {
    "collapsed": false
   },
   "outputs": [],
   "source": [
    "# Converting floats to string\n",
    "pi = 3.14159265359\n",
    "print(pi)\n",
    "print('{:06.2f}'.format(pi))\n",
    "print('{:.4f}'.format(pi))"
   ]
  }
 ],
 "metadata": {
  "kernelspec": {
   "display_name": "Python 3",
   "language": "python",
   "name": "python3"
  },
  "language_info": {
   "codemirror_mode": {
    "name": "ipython",
    "version": 3
   },
   "file_extension": ".py",
   "mimetype": "text/x-python",
   "name": "python",
   "nbconvert_exporter": "python",
   "pygments_lexer": "ipython3",
   "version": "3.6.0"
  }
 },
 "nbformat": 4,
 "nbformat_minor": 2
}
