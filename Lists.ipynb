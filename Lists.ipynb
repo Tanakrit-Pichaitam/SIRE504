{
 "cells": [
  {
   "cell_type": "markdown",
   "metadata": {},
   "source": [
    "# Lists"
   ]
  },
  {
   "cell_type": "code",
   "execution_count": null,
   "metadata": {
    "collapsed": false
   },
   "outputs": [],
   "source": [
    "# Basic lists, note square brackets to indicate lists\n",
    "rainbow = ['Red','Orange','Yellow','Green','Blue','Indigo','Violet']\n",
    "print(rainbow[0])\n",
    "for i in range(len(rainbow)):\n",
    "    print(rainbow[i])"
   ]
  },
  {
   "cell_type": "code",
   "execution_count": null,
   "metadata": {
    "collapsed": false
   },
   "outputs": [],
   "source": [
    "# Printing a list is possible, but the output clearly shows it is a list\n",
    "print(rainbow)"
   ]
  },
  {
   "cell_type": "code",
   "execution_count": null,
   "metadata": {
    "collapsed": false
   },
   "outputs": [],
   "source": [
    "# Adding elements in a loop\n",
    "a = []\n",
    "n = int(input())\n",
    "for i in range(n):\n",
    "    new_element = int(input())\n",
    "    a.append(new_element)\n",
    "print(a)"
   ]
  },
  {
   "cell_type": "code",
   "execution_count": null,
   "metadata": {
    "collapsed": false
   },
   "outputs": [],
   "source": [
    "# Operations with lists\n",
    "a = [1,2,3]\n",
    "b = [4,5]\n",
    "c = a + b\n",
    "d = b * 3\n",
    "print(c, d, sep='\\n')"
   ]
  },
  {
   "cell_type": "code",
   "execution_count": null,
   "metadata": {
    "collapsed": false
   },
   "outputs": [],
   "source": [
    "# Inserting elements into a list, mutability\n",
    "a = [0]*int(input())\n",
    "print(a)\n",
    "for i in range(len(a)):\n",
    "    a[i] = int(input())\n",
    "print(a)"
   ]
  },
  {
   "cell_type": "code",
   "execution_count": null,
   "metadata": {
    "collapsed": false
   },
   "outputs": [],
   "source": [
    "# Printing elements from a list, non-Python way\n",
    "a = [1,2,3,4,5]\n",
    "for i in range(len(a)):\n",
    "    print(a[i])"
   ]
  },
  {
   "cell_type": "code",
   "execution_count": null,
   "metadata": {
    "collapsed": false
   },
   "outputs": [],
   "source": [
    "# Printing elements from a list, the proper Python way\n",
    "a = [1,2,3,4,5]\n",
    "for i in a:\n",
    "    print(i, end=' ')"
   ]
  },
  {
   "cell_type": "code",
   "execution_count": null,
   "metadata": {
    "collapsed": false
   },
   "outputs": [],
   "source": [
    "# Use of in to test membership, works for both lists and string\n",
    "s = 'ab12c59p7dq'\n",
    "digits = []\n",
    "for symbol in s:\n",
    "    if symbol in '0123456789': # or with lists: ['0','1','2','3','4','5','6','7','8','9']\n",
    "        digits.append(int(symbol))\n",
    "print(digits)"
   ]
  },
  {
   "cell_type": "code",
   "execution_count": null,
   "metadata": {
    "collapsed": false
   },
   "outputs": [],
   "source": [
    "# Converting text to lists\n",
    "s = '1 2 3'\n",
    "a = s.split()\n",
    "print(a)"
   ]
  },
  {
   "cell_type": "code",
   "execution_count": null,
   "metadata": {
    "collapsed": false
   },
   "outputs": [],
   "source": [
    "# Advanced conversion of text to lists, when text contain numbers\n",
    "a = '1 2 3'.split()\n",
    "for i in range(len(a)):\n",
    "    a[i] = int(a[i])\n",
    "print(a)"
   ]
  },
  {
   "cell_type": "markdown",
   "metadata": {},
   "source": [
    "### Generator syntax:\n",
    "```python\n",
    "[expression for variable in sequence]\n",
    "```"
   ]
  },
  {
   "cell_type": "code",
   "execution_count": null,
   "metadata": {
    "collapsed": false
   },
   "outputs": [],
   "source": [
    "# The parameters of split\n",
    "a = '192.168.0.1'.split('.')\n",
    "print(a)"
   ]
  },
  {
   "cell_type": "code",
   "execution_count": null,
   "metadata": {
    "collapsed": false
   },
   "outputs": [],
   "source": [
    "# Converting lists to string\n",
    "a = ['red','green','blue']\n",
    "print(''.join(a))"
   ]
  },
  {
   "cell_type": "code",
   "execution_count": null,
   "metadata": {
    "collapsed": false
   },
   "outputs": [],
   "source": [
    "# Join require strings\n",
    "a = [1, 2, 3]\n",
    "print(' '.join(a)) # This will cause and error"
   ]
  },
  {
   "cell_type": "code",
   "execution_count": null,
   "metadata": {
    "collapsed": false
   },
   "outputs": [],
   "source": [
    "# A generator can be used to help with converting the list to string\n",
    "a = [1,2,3]\n",
    "print(' '.join([str(num) for num in a]))"
   ]
  },
  {
   "cell_type": "code",
   "execution_count": null,
   "metadata": {
    "collapsed": false
   },
   "outputs": [],
   "source": [
    "# More examples of creating a list from a generator\n",
    "n = 5\n",
    "[(i+1)**2 for i in range(5)]"
   ]
  },
  {
   "cell_type": "code",
   "execution_count": null,
   "metadata": {
    "collapsed": false
   },
   "outputs": [],
   "source": [
    "# Slicing and indexing\n",
    "a = [1,2,3,4,5]\n",
    "print(a[2:4])"
   ]
  },
  {
   "cell_type": "code",
   "execution_count": null,
   "metadata": {
    "collapsed": false
   },
   "outputs": [],
   "source": [
    "# More slicing\n",
    "a = [1,2,3,4,5,6,7]\n",
    "a[::-2] = [10,20,30,40]\n",
    "print(a)"
   ]
  },
  {
   "cell_type": "code",
   "execution_count": null,
   "metadata": {
    "collapsed": false
   },
   "outputs": [],
   "source": [
    "# Advanced assignments\n",
    "a, b = 1, 1\n",
    "print(a,b)\n",
    "a = b = 1\n",
    "print(a,b)\n",
    "a, b, *c = 0, 1, 2, 3, 4, 5, 6\n",
    "print(a,b,c)"
   ]
  },
  {
   "cell_type": "code",
   "execution_count": null,
   "metadata": {
    "collapsed": false
   },
   "outputs": [],
   "source": [
    "# Tuples, when you need a list that is immutable\n",
    "a = [1,2,3]\n",
    "b = (1,2,3)\n",
    "a[1] = 4\n",
    "b[1] = 4 # This line will cause an error when run"
   ]
  }
 ],
 "metadata": {
  "kernelspec": {
   "display_name": "Python 3",
   "language": "python",
   "name": "python3"
  },
  "language_info": {
   "codemirror_mode": {
    "name": "ipython",
    "version": 3
   },
   "file_extension": ".py",
   "mimetype": "text/x-python",
   "name": "python",
   "nbconvert_exporter": "python",
   "pygments_lexer": "ipython3",
   "version": "3.6.0"
  }
 },
 "nbformat": 4,
 "nbformat_minor": 2
}
