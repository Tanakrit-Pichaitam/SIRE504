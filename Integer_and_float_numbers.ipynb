{
 "cells": [
  {
   "cell_type": "markdown",
   "metadata": {},
   "source": [
    "# Integers and floating point numbers"
   ]
  },
  {
   "cell_type": "code",
   "execution_count": null,
   "metadata": {
    "collapsed": false
   },
   "outputs": [],
   "source": [
    "# There are two types of division operators\n",
    "f = 17 / 3\n",
    "print(type(f))\n",
    "e = 17 // 3\n",
    "print(type(e))"
   ]
  },
  {
   "cell_type": "code",
   "execution_count": null,
   "metadata": {
    "collapsed": false
   },
   "outputs": [],
   "source": [
    "# Floating point division, integer division and modulo (rest)\n",
    "print(17 / 3)\n",
    "print(17 // 3)\n",
    "print(17 % 3)"
   ]
  },
  {
   "cell_type": "code",
   "execution_count": null,
   "metadata": {
    "collapsed": false
   },
   "outputs": [],
   "source": [
    "# Power function (exponential)\n",
    "print(2 ** 4)\n",
    "print(2 ** -2)"
   ]
  },
  {
   "cell_type": "code",
   "execution_count": null,
   "metadata": {
    "collapsed": false
   },
   "outputs": [],
   "source": [
    "# When input is a float, we need to convert it\n",
    "x = float(input('Float:'))\n",
    "print(x)"
   ]
  },
  {
   "cell_type": "code",
   "execution_count": null,
   "metadata": {
    "collapsed": false
   },
   "outputs": [],
   "source": [
    "# Function \"int()\" will discard the fraction part of a float\n",
    "print(int(1.3))\n",
    "print(int(1.7))\n",
    "print(int(-1.3))\n",
    "print(int(-1.7))"
   ]
  },
  {
   "cell_type": "code",
   "execution_count": null,
   "metadata": {
    "collapsed": false
   },
   "outputs": [],
   "source": [
    "# Function \"round()\" will convert a float to nearest whole number\n",
    "print(round(1.3))\n",
    "print(round(1.7))\n",
    "print(round(-1.3))\n",
    "print(round(-1.7))"
   ]
  },
  {
   "cell_type": "code",
   "execution_count": null,
   "metadata": {
    "collapsed": false
   },
   "outputs": [],
   "source": [
    "# Arithmetic with floating point numbers may not give exact numbers.\n",
    "print(0.1 + 0.2 == 0.3)"
   ]
  },
  {
   "cell_type": "code",
   "execution_count": null,
   "metadata": {
    "collapsed": false
   },
   "outputs": [],
   "source": [
    "0.1 + 0.2"
   ]
  },
  {
   "cell_type": "code",
   "execution_count": null,
   "metadata": {
    "collapsed": false
   },
   "outputs": [],
   "source": [
    "# Comparing equality of floating point numbers are different from integers\n",
    "a = 0.1 + 0.2\n",
    "b = 0.3\n",
    "abs(a-b) < 0.000001"
   ]
  },
  {
   "cell_type": "code",
   "execution_count": null,
   "metadata": {
    "collapsed": false
   },
   "outputs": [],
   "source": [
    "# Print statement accepts two parameters to indicate the character to use between words and at end of the line.\n",
    "print(1,2,3)\n",
    "print(1,2,3, sep=',', end='.')\n",
    "print(4,5,6)"
   ]
  }
 ],
 "metadata": {
  "kernelspec": {
   "display_name": "Python 3",
   "language": "python",
   "name": "python3"
  },
  "language_info": {
   "codemirror_mode": {
    "name": "ipython",
    "version": 3
   },
   "file_extension": ".py",
   "mimetype": "text/x-python",
   "name": "python",
   "nbconvert_exporter": "python",
   "pygments_lexer": "ipython3",
   "version": "3.6.0"
  }
 },
 "nbformat": 4,
 "nbformat_minor": 2
}
