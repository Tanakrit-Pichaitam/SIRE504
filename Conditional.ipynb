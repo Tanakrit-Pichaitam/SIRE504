{
 "cells": [
  {
   "cell_type": "markdown",
   "metadata": {},
   "source": [
    "# Conditionals"
   ]
  },
  {
   "cell_type": "code",
   "execution_count": null,
   "metadata": {
    "collapsed": false
   },
   "outputs": [],
   "source": [
    "# Different statements are executed based on true/false tests\n",
    "x = int(input('Number:'))\n",
    "if x > 0:\n",
    "    print(x)\n",
    "else:\n",
    "    print(-x)"
   ]
  },
  {
   "cell_type": "code",
   "execution_count": null,
   "metadata": {
    "collapsed": false
   },
   "outputs": [],
   "source": [
    "# Readability is increased by removing unecessary paths\n",
    "x = int(input('Number:'))\n",
    "if x < 0:\n",
    "    x = -x\n",
    "print(x)"
   ]
  },
  {
   "cell_type": "code",
   "execution_count": null,
   "metadata": {
    "collapsed": false
   },
   "outputs": [],
   "source": [
    "# It is often worth it to see if Python already has the functionality\n",
    "# In this case, absolute value of a number\n",
    "x = int(input('Number:'))\n",
    "print(abs(x))"
   ]
  },
  {
   "cell_type": "code",
   "execution_count": null,
   "metadata": {
    "collapsed": false
   },
   "outputs": [],
   "source": [
    "# Nested conditionals\n",
    "x = int(input('X='))\n",
    "y = int(input('Y='))\n",
    "if x < 0:\n",
    "    if y > 0:\n",
    "        print('Quadrant II')\n",
    "    else:\n",
    "        print('Quadrant III')\n",
    "else:\n",
    "    if y > 0:\n",
    "        print('Quadrant I')\n",
    "    else:\n",
    "        print('Quadrant IV')"
   ]
  },
  {
   "cell_type": "code",
   "execution_count": null,
   "metadata": {
    "collapsed": false
   },
   "outputs": [],
   "source": [
    "# True/False tests can be combined to avoid nesting\n",
    "# Logical operator \"and\"\n",
    "x = int(input('X='))\n",
    "y = int(input('Y='))\n",
    "if x > 0 and y > 0:\n",
    "    print('Quadrant I')\n",
    "elif x > 0 and y < 0:\n",
    "    print('Quadrant IV')\n",
    "elif x < 0 and y > 0:\n",
    "    print('Quadrant II')\n",
    "elif x < 0 and y < 0:\n",
    "    print('Quadrant III')\n",
    "else:\n",
    "    print('This shouldn\"t happend!')"
   ]
  },
  {
   "cell_type": "code",
   "execution_count": null,
   "metadata": {
    "collapsed": false
   },
   "outputs": [],
   "source": [
    "# True/False is a separate datatype, bool (short for boolean)\n",
    "t = 2 < 5\n",
    "type(t)"
   ]
  },
  {
   "cell_type": "code",
   "execution_count": null,
   "metadata": {
    "collapsed": false
   },
   "outputs": [],
   "source": [
    "# The value for these tests are either True or False\n",
    "print(2 < 5)\n",
    "print(2 > 5)"
   ]
  },
  {
   "cell_type": "code",
   "execution_count": null,
   "metadata": {
    "collapsed": false
   },
   "outputs": [],
   "source": [
    "# The function bool() can be used to convert other values to True/False\n",
    "# Only 0 and the empty string '' return False\n",
    "print(bool(-10))\n",
    "print(bool(0))\n",
    "print(bool(''))\n",
    "print(bool('abc'))"
   ]
  },
  {
   "cell_type": "code",
   "execution_count": null,
   "metadata": {
    "collapsed": false
   },
   "outputs": [],
   "source": [
    "# A single value can also be interpreted as True/False\n",
    "if 0:\n",
    "    print('True')\n",
    "else:\n",
    "    print('False')"
   ]
  },
  {
   "cell_type": "code",
   "execution_count": null,
   "metadata": {
    "collapsed": false
   },
   "outputs": [],
   "source": [
    "# Another example of using the content of a variable as a test\n",
    "# Also introduces the logical operator \"not\"\n",
    "name = input('Name')\n",
    "if not name:\n",
    "    print('Please type a name')\n",
    "else:\n",
    "    print('Hello!')"
   ]
  },
  {
   "cell_type": "code",
   "execution_count": null,
   "metadata": {
    "collapsed": false
   },
   "outputs": [],
   "source": [
    "# The use of \"or\" as a logical operator\n",
    "x = int(input('X='))\n",
    "y = int(input('Y='))\n",
    "if x >= 0 or y >= 0:\n",
    "    print('At least one positive')\n",
    "else:\n",
    "    print('No positive numbers.')"
   ]
  }
 ],
 "metadata": {
  "kernelspec": {
   "display_name": "Python 3",
   "language": "python",
   "name": "python3"
  },
  "language_info": {
   "codemirror_mode": {
    "name": "ipython",
    "version": 3
   },
   "file_extension": ".py",
   "mimetype": "text/x-python",
   "name": "python",
   "nbconvert_exporter": "python",
   "pygments_lexer": "ipython3",
   "version": "3.6.0"
  }
 },
 "nbformat": 4,
 "nbformat_minor": 2
}
